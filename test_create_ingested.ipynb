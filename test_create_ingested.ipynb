{
 "cells": [
  {
   "attachments": {},
   "cell_type": "markdown",
   "metadata": {},
   "source": [
    "# testing create_ingested.py\n",
    "\n",
    "This script will test that the script create_ingested.py functions as expected.\n",
    "\n",
    "I will use it to create a months worth of ingested files in the `mpl/leeds_ingested` folder in the ICECAPSarchive.\n",
    "\n",
    "It will utilise doing it throught the command line functionality"
   ]
  },
  {
   "cell_type": "code",
   "execution_count": 1,
   "metadata": {},
   "outputs": [],
   "source": [
    "# initial setup\n",
    "year = 2019\n",
    "month = 7\n",
    "day = 5\n",
    "\n",
    "fname_afterpulse = '/gws/nopw/j04/ncas_radar_vol2/data/ICECAPSarchive/mpl/raw/201907111242.mpl.gz'"
   ]
  },
  {
   "cell_type": "code",
   "execution_count": 2,
   "metadata": {},
   "outputs": [],
   "source": [
    "import create_ingested"
   ]
  },
  {
   "cell_type": "code",
   "execution_count": 5,
   "metadata": {},
   "outputs": [
    {
     "name": "stdout",
     "output_type": "stream",
     "text": [
      "smtmplpolX1.a1.20190701.000000.cdf already exists.\n",
      "smtmplpolX1.a1.20190702.000000.cdf already exists.\n",
      "smtmplpolX1.a1.20190703.000000.cdf already exists.\n",
      "smtmplpolX1.a1.20190704.000000.cdf already exists.\n",
      "20190705*.mpl.gz\n",
      "loading 201907050000.mpl.gz\n"
     ]
    },
    {
     "ename": "KeyboardInterrupt",
     "evalue": "",
     "output_type": "error",
     "traceback": [
      "\u001b[0;31m---------------------------------------------------------------------------\u001b[0m",
      "\u001b[0;31mKeyboardInterrupt\u001b[0m                         Traceback (most recent call last)",
      "Cell \u001b[0;32mIn[5], line 4\u001b[0m\n\u001b[1;32m      1\u001b[0m dir_target \u001b[39m=\u001b[39m \u001b[39m'\u001b[39m\u001b[39m/gws/nopw/j04/ncas_radar_vol2/data/ICECAPSarchive/mpl/leeds_ingested\u001b[39m\u001b[39m'\u001b[39m\n\u001b[1;32m      2\u001b[0m dir_mpl \u001b[39m=\u001b[39m \u001b[39m'\u001b[39m\u001b[39m/gws/nopw/j04/ncas_radar_vol2/data/ICECAPSarchive/mpl/raw\u001b[39m\u001b[39m'\u001b[39m\n\u001b[0;32m----> 4\u001b[0m create_ingested\u001b[39m.\u001b[39;49mcreate_ingested_month(year\u001b[39m=\u001b[39;49myear, month\u001b[39m=\u001b[39;49mmonth, dir_mpl\u001b[39m=\u001b[39;49mdir_mpl, dir_target\u001b[39m=\u001b[39;49mdir_target, fname_afterpulse\u001b[39m=\u001b[39;49mfname_afterpulse)\n",
      "File \u001b[0;32m~/_scripts/mplgz_to_ingested/create_ingested.py:93\u001b[0m, in \u001b[0;36mcreate_ingested_month\u001b[0;34m(year, month, dir_target, dir_mpl, overwrite, fname_afterpulse, fname_overlap)\u001b[0m\n\u001b[1;32m     91\u001b[0m date0 \u001b[39m=\u001b[39m datetime\u001b[39m.\u001b[39mdate(year\u001b[39m=\u001b[39myear, month\u001b[39m=\u001b[39mmonth, day\u001b[39m=\u001b[39m\u001b[39m1\u001b[39m)\n\u001b[1;32m     92\u001b[0m \u001b[39mwhile\u001b[39;00m date0\u001b[39m.\u001b[39mmonth \u001b[39m==\u001b[39m month:\n\u001b[0;32m---> 93\u001b[0m     create_ingested(date\u001b[39m=\u001b[39;49mdate0, dir_target\u001b[39m=\u001b[39;49mdir_target, dir_mpl\u001b[39m=\u001b[39;49mdir_mpl, overwrite\u001b[39m=\u001b[39;49moverwrite, afterpulse\u001b[39m=\u001b[39;49mafterpulse, overlap\u001b[39m=\u001b[39;49moverlap, sources\u001b[39m=\u001b[39;49msources)\n\u001b[1;32m     94\u001b[0m     date0 \u001b[39m=\u001b[39m date0 \u001b[39m+\u001b[39m delta_day\n",
      "File \u001b[0;32m~/_scripts/mplgz_to_ingested/create_ingested.py:49\u001b[0m, in \u001b[0;36mcreate_ingested\u001b[0;34m(date, dir_target, dir_mpl, overwrite, afterpulse, overlap, sources)\u001b[0m\n\u001b[1;32m     47\u001b[0m fname_glob \u001b[39m=\u001b[39m \u001b[39mf\u001b[39m\u001b[39m'\u001b[39m\u001b[39m{\u001b[39;00mdate\u001b[39m.\u001b[39myear\u001b[39m:\u001b[39;00m\u001b[39m04\u001b[39m\u001b[39m}\u001b[39;00m\u001b[39m{\u001b[39;00mdate\u001b[39m.\u001b[39mmonth\u001b[39m:\u001b[39;00m\u001b[39m02\u001b[39m\u001b[39m}\u001b[39;00m\u001b[39m{\u001b[39;00mdate\u001b[39m.\u001b[39mday\u001b[39m:\u001b[39;00m\u001b[39m02\u001b[39m\u001b[39m}\u001b[39;00m\u001b[39m*.mpl.gz\u001b[39m\u001b[39m'\u001b[39m\n\u001b[1;32m     48\u001b[0m \u001b[39mprint\u001b[39m(fname_glob)\n\u001b[0;32m---> 49\u001b[0m ds \u001b[39m=\u001b[39m load_mpl_inline\u001b[39m.\u001b[39;49mmf_load_mpl_inline(fname_glob, dir_mpl)\n\u001b[1;32m     51\u001b[0m \u001b[39m# apply the raw_to_ingested algorithm on the already-loaded ds\u001b[39;00m\n\u001b[1;32m     52\u001b[0m ds \u001b[39m=\u001b[39m raw_to_ingested\u001b[39m.\u001b[39mraw_to_ingested(\u001b[39mNone\u001b[39;00m, \u001b[39mNone\u001b[39;00m, data_loaded\u001b[39m=\u001b[39mds)\n",
      "File \u001b[0;32m~/_scripts/mplgz_to_ingested/load_mpl_inline.py:114\u001b[0m, in \u001b[0;36mmf_load_mpl_inline\u001b[0;34m(fname_fmt, dir_root)\u001b[0m\n\u001b[1;32m    112\u001b[0m     n \u001b[39m=\u001b[39m os\u001b[39m.\u001b[39mpath\u001b[39m.\u001b[39mjoin(dir_root,fname)\n\u001b[1;32m    113\u001b[0m     \u001b[39mprint\u001b[39m(\u001b[39mf\u001b[39m\u001b[39m'\u001b[39m\u001b[39mloading \u001b[39m\u001b[39m{\u001b[39;00mfname\u001b[39m}\u001b[39;00m\u001b[39m'\u001b[39m)\n\u001b[0;32m--> 114\u001b[0m     ds\u001b[39m.\u001b[39mappend(load_mpl_inline(n))\n\u001b[1;32m    115\u001b[0m ds \u001b[39m=\u001b[39m xr\u001b[39m.\u001b[39mcombine_nested(datasets\u001b[39m=\u001b[39mds, concat_dim\u001b[39m=\u001b[39m\u001b[39m'\u001b[39m\u001b[39mprofile\u001b[39m\u001b[39m'\u001b[39m, combine_attrs\u001b[39m=\u001b[39m\u001b[39m'\u001b[39m\u001b[39moverride\u001b[39m\u001b[39m'\u001b[39m)\n\u001b[1;32m    116\u001b[0m \u001b[39mreturn\u001b[39;00m ds\n",
      "File \u001b[0;32m~/_scripts/mplgz_to_ingested/load_mpl_inline.py:32\u001b[0m, in \u001b[0;36mload_mpl_inline\u001b[0;34m(fname)\u001b[0m\n\u001b[1;32m     17\u001b[0m \u001b[39m'''Function to load .mpl.gz files from the archive without the need to create additional files.\u001b[39;00m\n\u001b[1;32m     18\u001b[0m \u001b[39m\u001b[39;00m\n\u001b[1;32m     19\u001b[0m \u001b[39mThis will work by opening the .gz file in a binary read mode, and then using functions from mpl2nc to read the binary format.\u001b[39;00m\n\u001b[0;32m   (...)\u001b[0m\n\u001b[1;32m     29\u001b[0m \u001b[39m        The loaded mpl data as an xarray dataset, which can be accepted by raw_to_ingested.py\u001b[39;00m\n\u001b[1;32m     30\u001b[0m \u001b[39m'''\u001b[39;00m\n\u001b[1;32m     31\u001b[0m \u001b[39m# same method as extract_mpl2nc, except utilising gzip.open().\u001b[39;00m\n\u001b[0;32m---> 32\u001b[0m mpl \u001b[39m=\u001b[39m mpl2nc_read_mpl_gzip(fname)\n\u001b[1;32m     33\u001b[0m mpl \u001b[39m=\u001b[39m mpl2nc\u001b[39m.\u001b[39mprocess_nrb(mpl)\n\u001b[1;32m     34\u001b[0m \u001b[39m# convert mpl to xr.Dataset format\u001b[39;00m\n",
      "File \u001b[0;32m~/_scripts/mplgz_to_ingested/load_mpl_inline.py:49\u001b[0m, in \u001b[0;36mmpl2nc_read_mpl_gzip\u001b[0;34m(fname)\u001b[0m\n\u001b[1;32m     47\u001b[0m \u001b[39mwith\u001b[39;00m gzip\u001b[39m.\u001b[39mopen(fname,\u001b[39m'\u001b[39m\u001b[39mrb\u001b[39m\u001b[39m'\u001b[39m) \u001b[39mas\u001b[39;00m f:\n\u001b[1;32m     48\u001b[0m     \u001b[39mwhile\u001b[39;00m \u001b[39mTrue\u001b[39;00m:\n\u001b[0;32m---> 49\u001b[0m         d \u001b[39m=\u001b[39m mpl2nc\u001b[39m.\u001b[39;49mread_mpl_profile(f)\n\u001b[1;32m     50\u001b[0m         \u001b[39mif\u001b[39;00m d \u001b[39mis\u001b[39;00m \u001b[39mNone\u001b[39;00m:\n\u001b[1;32m     51\u001b[0m             \u001b[39mbreak\u001b[39;00m\n",
      "File \u001b[0;32m~/.conda/envs/icesat_summit/lib/python3.10/site-packages/mpl2nc.py:234\u001b[0m, in \u001b[0;36mread_mpl_profile\u001b[0;34m(f)\u001b[0m\n\u001b[1;32m    232\u001b[0m         \u001b[39mraise\u001b[39;00m \u001b[39mIOError\u001b[39;00m(\u001b[39m'\u001b[39m\u001b[39mIncomplete \u001b[39m\u001b[39m%s\u001b[39;00m\u001b[39m data\u001b[39m\u001b[39m'\u001b[39m \u001b[39m%\u001b[39m x)\n\u001b[1;32m    233\u001b[0m     a \u001b[39m=\u001b[39m struct\u001b[39m.\u001b[39munpack_from(\u001b[39m'\u001b[39m\u001b[39m<\u001b[39m\u001b[39m'\u001b[39m \u001b[39m+\u001b[39m \u001b[39m'\u001b[39m\u001b[39mf\u001b[39m\u001b[39m'\u001b[39m\u001b[39m*\u001b[39mn, buf)\n\u001b[0;32m--> 234\u001b[0m     d[x] \u001b[39m=\u001b[39m np\u001b[39m.\u001b[39;49marray(a, dtype\u001b[39m=\u001b[39;49mnp\u001b[39m.\u001b[39;49mfloat32)\n\u001b[1;32m    235\u001b[0m \u001b[39mreturn\u001b[39;00m d\n",
      "\u001b[0;31mKeyboardInterrupt\u001b[0m: "
     ]
    }
   ],
   "source": [
    "dir_target = '/gws/nopw/j04/ncas_radar_vol2/data/ICECAPSarchive/mpl/leeds_ingested'\n",
    "dir_mpl = '/gws/nopw/j04/ncas_radar_vol2/data/ICECAPSarchive/mpl/raw'\n",
    "\n",
    "create_ingested.create_ingested_month(year=year, month=month, dir_mpl=dir_mpl, dir_target=dir_target, fname_afterpulse=fname_afterpulse)"
   ]
  }
 ],
 "metadata": {
  "kernelspec": {
   "display_name": "icesat_summit",
   "language": "python",
   "name": "python3"
  },
  "language_info": {
   "codemirror_mode": {
    "name": "ipython",
    "version": 3
   },
   "file_extension": ".py",
   "mimetype": "text/x-python",
   "name": "python",
   "nbconvert_exporter": "python",
   "pygments_lexer": "ipython3",
   "version": "3.10.8"
  },
  "orig_nbformat": 4,
  "vscode": {
   "interpreter": {
    "hash": "a4fd99504b05f85152f677e0626c907b738477dfd88f16a79b482f921eb6f6b2"
   }
  }
 },
 "nbformat": 4,
 "nbformat_minor": 2
}
